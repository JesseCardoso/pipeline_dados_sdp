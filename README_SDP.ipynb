{
 "cells": [
  {
   "cell_type": "markdown",
   "id": "8a68e501-1d16-4506-b672-3f2319563753",
   "metadata": {},
   "source": [
    "# Getting Started"
   ]
  },
  {
   "cell_type": "markdown",
   "id": "84a9b61c-e4f6-42ac-9472-cc70262e4cc9",
   "metadata": {},
   "source": [
    "Welcome to your interactive development environment! \n",
    "Here you can create documents that contain live code and visualization for data cleaning and transformation, statistical modeling, data visualization, machine learning, and much more."
   ]
  },
  {
   "cell_type": "markdown",
   "id": "f93aaea9-b2d6-4b49-a170-ccf769d8c2c1",
   "metadata": {},
   "source": [
    "---"
   ]
  },
  {
   "cell_type": "markdown",
   "id": "4bdb759c-9d1c-4096-ab1a-e416466815e7",
   "metadata": {},
   "source": [
    "# Upload your files"
   ]
  },
  {
   "cell_type": "markdown",
   "id": "9c8445e4-f818-4cb7-85ac-942bcfe3bd4e",
   "metadata": {},
   "source": [
    "You can upload your files from your local system by by dragging and dropping files onto the file browser, or by clicking the “Upload Files” button at the top of the file browser."
   ]
  },
  {
   "cell_type": "markdown",
   "id": "6ed0415c-ca68-4b2d-9d94-cb7623c80160",
   "metadata": {},
   "source": [
    "---"
   ]
  },
  {
   "cell_type": "markdown",
   "id": "340413ac-0e80-4d47-8d9a-e14ee1ce7744",
   "metadata": {},
   "source": [
    "# Access data from your Datalake.\n",
    "\n",
    "Let's create the connection between this environment and your Datalake."
   ]
  },
  {
   "cell_type": "markdown",
   "id": "ddac6c51",
   "metadata": {},
   "source": [
    "```python\n",
    "!pip install pyhive\n",
    "from pyhive import presto\n",
    "import pandas as pd\n",
    "\n",
    "conn = presto.connect(host = datalake-1, port = 18080, username = 'root')\n",
    "cursor = conn.cursor()\n",
    "cursor.execute(\"<Your query goes here>\")\n",
    "rows = cursor.fetchall()\n",
    "cursor.close()\n",
    "```"
   ]
  },
  {
   "cell_type": "markdown",
   "id": "58950a4b",
   "metadata": {},
   "source": [
    "---"
   ]
  },
  {
   "cell_type": "markdown",
   "id": "cb65291e",
   "metadata": {},
   "source": [
    "# Using Pandas DataFrame\n",
    "\n",
    "Once connected to your Datalake, you can use the pandas library for high-performance, easy-to-use data structures and data analysis tools.\n",
    "\n",
    "You can transform the output of your query into a two-dimensional tabular data.\n",
    "\n",
    "```python\n",
    "df1 = pd.DataFrame(rows)\n",
    "df1.columns = [<list of your columns>]\n",
    "df1\n",
    "```"
   ]
  },
  {
   "cell_type": "markdown",
   "id": "d2dab920",
   "metadata": {},
   "source": [
    "You can export your DataFrame into a table in your datalake, which can be used to create dashboards with Superset.\n",
    "\n",
    "```python\n",
    "from sqlalchemy import create_engine\n",
    "engine = create_engine('presto://datalake-1:18080/hive', echo=False)\n",
    "df.to_sql('deals', con=engine, schema='raw', if_exists='replace', index=False, method='multi')\n",
    "```"
   ]
  },
  {
   "cell_type": "markdown",
   "id": "aede7ab8",
   "metadata": {},
   "source": [
    "## Example:\n",
    "\n",
    "To demonstrate some operations that can be done with pandas DataFrame, an example dataset will be generated."
   ]
  },
  {
   "cell_type": "code",
   "execution_count": null,
   "id": "fa221401",
   "metadata": {},
   "outputs": [],
   "source": [
    "!pip install pandas\n",
    "import pandas as pd\n",
    "import numpy as np"
   ]
  },
  {
   "cell_type": "code",
   "execution_count": 2,
   "id": "f3295c5f",
   "metadata": {},
   "outputs": [
    {
     "data": {
      "text/html": [
       "<div>\n",
       "<style scoped>\n",
       "    .dataframe tbody tr th:only-of-type {\n",
       "        vertical-align: middle;\n",
       "    }\n",
       "\n",
       "    .dataframe tbody tr th {\n",
       "        vertical-align: top;\n",
       "    }\n",
       "\n",
       "    .dataframe thead th {\n",
       "        text-align: right;\n",
       "    }\n",
       "</style>\n",
       "<table border=\"1\" class=\"dataframe\">\n",
       "  <thead>\n",
       "    <tr style=\"text-align: right;\">\n",
       "      <th></th>\n",
       "      <th>Loja 1</th>\n",
       "      <th>Loja 2</th>\n",
       "      <th>Loja 3</th>\n",
       "      <th>Loja 4</th>\n",
       "    </tr>\n",
       "  </thead>\n",
       "  <tbody>\n",
       "    <tr>\n",
       "      <th>0</th>\n",
       "      <td>95</td>\n",
       "      <td>11</td>\n",
       "      <td>81</td>\n",
       "      <td>70</td>\n",
       "    </tr>\n",
       "    <tr>\n",
       "      <th>1</th>\n",
       "      <td>63</td>\n",
       "      <td>87</td>\n",
       "      <td>75</td>\n",
       "      <td>9</td>\n",
       "    </tr>\n",
       "    <tr>\n",
       "      <th>2</th>\n",
       "      <td>77</td>\n",
       "      <td>40</td>\n",
       "      <td>4</td>\n",
       "      <td>63</td>\n",
       "    </tr>\n",
       "    <tr>\n",
       "      <th>3</th>\n",
       "      <td>40</td>\n",
       "      <td>60</td>\n",
       "      <td>92</td>\n",
       "      <td>64</td>\n",
       "    </tr>\n",
       "    <tr>\n",
       "      <th>4</th>\n",
       "      <td>5</td>\n",
       "      <td>12</td>\n",
       "      <td>93</td>\n",
       "      <td>40</td>\n",
       "    </tr>\n",
       "  </tbody>\n",
       "</table>\n",
       "</div>"
      ],
      "text/plain": [
       "   Loja 1  Loja 2  Loja 3  Loja 4\n",
       "0      95      11      81      70\n",
       "1      63      87      75       9\n",
       "2      77      40       4      63\n",
       "3      40      60      92      64\n",
       "4       5      12      93      40"
      ]
     },
     "execution_count": 2,
     "metadata": {},
     "output_type": "execute_result"
    }
   ],
   "source": [
    "# A 5x4 dataframe is generated with random values\n",
    "np.random.seed(101)\n",
    "df = pd.DataFrame(np.random.randint(0,100,size=(5, 4)))\n",
    "df.columns = ['Loja 1', 'Loja 2', 'Loja 3', 'Loja 4']\n",
    "df"
   ]
  },
  {
   "cell_type": "code",
   "execution_count": 3,
   "id": "fb7d0baa",
   "metadata": {},
   "outputs": [
    {
     "data": {
      "text/html": [
       "<div>\n",
       "<style scoped>\n",
       "    .dataframe tbody tr th:only-of-type {\n",
       "        vertical-align: middle;\n",
       "    }\n",
       "\n",
       "    .dataframe tbody tr th {\n",
       "        vertical-align: top;\n",
       "    }\n",
       "\n",
       "    .dataframe thead th {\n",
       "        text-align: right;\n",
       "    }\n",
       "</style>\n",
       "<table border=\"1\" class=\"dataframe\">\n",
       "  <thead>\n",
       "    <tr style=\"text-align: right;\">\n",
       "      <th></th>\n",
       "      <th>Item</th>\n",
       "      <th>Loja 1</th>\n",
       "      <th>Loja 2</th>\n",
       "      <th>Loja 3</th>\n",
       "      <th>Loja 4</th>\n",
       "    </tr>\n",
       "  </thead>\n",
       "  <tbody>\n",
       "    <tr>\n",
       "      <th>0</th>\n",
       "      <td>Produto 1</td>\n",
       "      <td>95</td>\n",
       "      <td>11</td>\n",
       "      <td>81</td>\n",
       "      <td>70</td>\n",
       "    </tr>\n",
       "    <tr>\n",
       "      <th>1</th>\n",
       "      <td>Produto 2</td>\n",
       "      <td>63</td>\n",
       "      <td>87</td>\n",
       "      <td>75</td>\n",
       "      <td>9</td>\n",
       "    </tr>\n",
       "    <tr>\n",
       "      <th>2</th>\n",
       "      <td>Produto 3</td>\n",
       "      <td>77</td>\n",
       "      <td>40</td>\n",
       "      <td>4</td>\n",
       "      <td>63</td>\n",
       "    </tr>\n",
       "    <tr>\n",
       "      <th>3</th>\n",
       "      <td>Produto 4</td>\n",
       "      <td>40</td>\n",
       "      <td>60</td>\n",
       "      <td>92</td>\n",
       "      <td>64</td>\n",
       "    </tr>\n",
       "    <tr>\n",
       "      <th>4</th>\n",
       "      <td>Produto 5</td>\n",
       "      <td>5</td>\n",
       "      <td>12</td>\n",
       "      <td>93</td>\n",
       "      <td>40</td>\n",
       "    </tr>\n",
       "  </tbody>\n",
       "</table>\n",
       "</div>"
      ],
      "text/plain": [
       "        Item  Loja 1  Loja 2  Loja 3  Loja 4\n",
       "0  Produto 1      95      11      81      70\n",
       "1  Produto 2      63      87      75       9\n",
       "2  Produto 3      77      40       4      63\n",
       "3  Produto 4      40      60      92      64\n",
       "4  Produto 5       5      12      93      40"
      ]
     },
     "execution_count": 3,
     "metadata": {},
     "output_type": "execute_result"
    }
   ],
   "source": [
    "# Adding new column to specific index:\n",
    "df.insert(0, \"Item\", ['Produto 1', 'Produto 2', 'Produto 3', 'Produto 4', 'Produto 5'])\n",
    "df"
   ]
  },
  {
   "cell_type": "code",
   "execution_count": 4,
   "id": "b2154f2f",
   "metadata": {},
   "outputs": [
    {
     "data": {
      "text/html": [
       "<div>\n",
       "<style scoped>\n",
       "    .dataframe tbody tr th:only-of-type {\n",
       "        vertical-align: middle;\n",
       "    }\n",
       "\n",
       "    .dataframe tbody tr th {\n",
       "        vertical-align: top;\n",
       "    }\n",
       "\n",
       "    .dataframe thead th {\n",
       "        text-align: right;\n",
       "    }\n",
       "</style>\n",
       "<table border=\"1\" class=\"dataframe\">\n",
       "  <thead>\n",
       "    <tr style=\"text-align: right;\">\n",
       "      <th></th>\n",
       "      <th>Item</th>\n",
       "      <th>Loja 1</th>\n",
       "      <th>Loja 2</th>\n",
       "      <th>Loja 3</th>\n",
       "      <th>Loja 4</th>\n",
       "      <th>Total</th>\n",
       "    </tr>\n",
       "  </thead>\n",
       "  <tbody>\n",
       "    <tr>\n",
       "      <th>0</th>\n",
       "      <td>Produto 1</td>\n",
       "      <td>95</td>\n",
       "      <td>11</td>\n",
       "      <td>81</td>\n",
       "      <td>70</td>\n",
       "      <td>0</td>\n",
       "    </tr>\n",
       "    <tr>\n",
       "      <th>1</th>\n",
       "      <td>Produto 2</td>\n",
       "      <td>63</td>\n",
       "      <td>87</td>\n",
       "      <td>75</td>\n",
       "      <td>9</td>\n",
       "      <td>0</td>\n",
       "    </tr>\n",
       "    <tr>\n",
       "      <th>2</th>\n",
       "      <td>Produto 3</td>\n",
       "      <td>77</td>\n",
       "      <td>40</td>\n",
       "      <td>4</td>\n",
       "      <td>63</td>\n",
       "      <td>0</td>\n",
       "    </tr>\n",
       "    <tr>\n",
       "      <th>3</th>\n",
       "      <td>Produto 4</td>\n",
       "      <td>40</td>\n",
       "      <td>60</td>\n",
       "      <td>92</td>\n",
       "      <td>64</td>\n",
       "      <td>0</td>\n",
       "    </tr>\n",
       "    <tr>\n",
       "      <th>4</th>\n",
       "      <td>Produto 5</td>\n",
       "      <td>5</td>\n",
       "      <td>12</td>\n",
       "      <td>93</td>\n",
       "      <td>40</td>\n",
       "      <td>0</td>\n",
       "    </tr>\n",
       "  </tbody>\n",
       "</table>\n",
       "</div>"
      ],
      "text/plain": [
       "        Item  Loja 1  Loja 2  Loja 3  Loja 4  Total\n",
       "0  Produto 1      95      11      81      70      0\n",
       "1  Produto 2      63      87      75       9      0\n",
       "2  Produto 3      77      40       4      63      0\n",
       "3  Produto 4      40      60      92      64      0\n",
       "4  Produto 5       5      12      93      40      0"
      ]
     },
     "execution_count": 4,
     "metadata": {},
     "output_type": "execute_result"
    }
   ],
   "source": [
    "# Adding new column as last column position\n",
    "df['Total'] = [0,0,0,0,0]\n",
    "df"
   ]
  },
  {
   "cell_type": "code",
   "execution_count": 5,
   "id": "7c2ee0b3",
   "metadata": {},
   "outputs": [
    {
     "data": {
      "text/html": [
       "<div>\n",
       "<style scoped>\n",
       "    .dataframe tbody tr th:only-of-type {\n",
       "        vertical-align: middle;\n",
       "    }\n",
       "\n",
       "    .dataframe tbody tr th {\n",
       "        vertical-align: top;\n",
       "    }\n",
       "\n",
       "    .dataframe thead th {\n",
       "        text-align: right;\n",
       "    }\n",
       "</style>\n",
       "<table border=\"1\" class=\"dataframe\">\n",
       "  <thead>\n",
       "    <tr style=\"text-align: right;\">\n",
       "      <th></th>\n",
       "      <th>Item</th>\n",
       "      <th>Loja 1</th>\n",
       "      <th>Loja 2</th>\n",
       "      <th>Loja 3</th>\n",
       "      <th>Loja 4</th>\n",
       "      <th>Total</th>\n",
       "    </tr>\n",
       "  </thead>\n",
       "  <tbody>\n",
       "    <tr>\n",
       "      <th>0</th>\n",
       "      <td>Produto 1</td>\n",
       "      <td>95</td>\n",
       "      <td>11</td>\n",
       "      <td>81</td>\n",
       "      <td>70</td>\n",
       "      <td>257</td>\n",
       "    </tr>\n",
       "    <tr>\n",
       "      <th>1</th>\n",
       "      <td>Produto 2</td>\n",
       "      <td>63</td>\n",
       "      <td>87</td>\n",
       "      <td>75</td>\n",
       "      <td>9</td>\n",
       "      <td>234</td>\n",
       "    </tr>\n",
       "    <tr>\n",
       "      <th>2</th>\n",
       "      <td>Produto 3</td>\n",
       "      <td>77</td>\n",
       "      <td>40</td>\n",
       "      <td>4</td>\n",
       "      <td>63</td>\n",
       "      <td>184</td>\n",
       "    </tr>\n",
       "    <tr>\n",
       "      <th>3</th>\n",
       "      <td>Produto 4</td>\n",
       "      <td>40</td>\n",
       "      <td>60</td>\n",
       "      <td>92</td>\n",
       "      <td>64</td>\n",
       "      <td>256</td>\n",
       "    </tr>\n",
       "    <tr>\n",
       "      <th>4</th>\n",
       "      <td>Produto 5</td>\n",
       "      <td>5</td>\n",
       "      <td>12</td>\n",
       "      <td>93</td>\n",
       "      <td>40</td>\n",
       "      <td>150</td>\n",
       "    </tr>\n",
       "  </tbody>\n",
       "</table>\n",
       "</div>"
      ],
      "text/plain": [
       "        Item  Loja 1  Loja 2  Loja 3  Loja 4  Total\n",
       "0  Produto 1      95      11      81      70    257\n",
       "1  Produto 2      63      87      75       9    234\n",
       "2  Produto 3      77      40       4      63    184\n",
       "3  Produto 4      40      60      92      64    256\n",
       "4  Produto 5       5      12      93      40    150"
      ]
     },
     "execution_count": 5,
     "metadata": {},
     "output_type": "execute_result"
    }
   ],
   "source": [
    "# Modifing cell values (Line 4)\n",
    "sum_produto = 0\n",
    "for i in range(0,5):\n",
    "    df.at[i, 'Total'] = df['Loja 1'][i] + df['Loja 2'][i] + df['Loja 3'][i] + df['Loja 4'][i]\n",
    "    sum_produto = 0\n",
    "df"
   ]
  },
  {
   "cell_type": "code",
   "execution_count": 6,
   "id": "355a28f4",
   "metadata": {},
   "outputs": [
    {
     "data": {
      "text/plain": [
       "Item      Produto 1\n",
       "Loja 1           95\n",
       "Loja 2           11\n",
       "Loja 3           81\n",
       "Loja 4           70\n",
       "Total           257\n",
       "Name: 0, dtype: object"
      ]
     },
     "execution_count": 6,
     "metadata": {},
     "output_type": "execute_result"
    }
   ],
   "source": [
    "# Return spefic row by integer-location index\n",
    "df.iloc[0, :]"
   ]
  },
  {
   "cell_type": "code",
   "execution_count": 7,
   "id": "1f6d62b5",
   "metadata": {},
   "outputs": [
    {
     "data": {
      "text/html": [
       "<div>\n",
       "<style scoped>\n",
       "    .dataframe tbody tr th:only-of-type {\n",
       "        vertical-align: middle;\n",
       "    }\n",
       "\n",
       "    .dataframe tbody tr th {\n",
       "        vertical-align: top;\n",
       "    }\n",
       "\n",
       "    .dataframe thead th {\n",
       "        text-align: right;\n",
       "    }\n",
       "</style>\n",
       "<table border=\"1\" class=\"dataframe\">\n",
       "  <thead>\n",
       "    <tr style=\"text-align: right;\">\n",
       "      <th></th>\n",
       "      <th>Item</th>\n",
       "      <th>Loja 1</th>\n",
       "      <th>Loja 2</th>\n",
       "      <th>Loja 3</th>\n",
       "      <th>Loja 4</th>\n",
       "      <th>Total</th>\n",
       "    </tr>\n",
       "  </thead>\n",
       "  <tbody>\n",
       "    <tr>\n",
       "      <th>0</th>\n",
       "      <td>Produto 1</td>\n",
       "      <td>95</td>\n",
       "      <td>11</td>\n",
       "      <td>81</td>\n",
       "      <td>70</td>\n",
       "      <td>257</td>\n",
       "    </tr>\n",
       "  </tbody>\n",
       "</table>\n",
       "</div>"
      ],
      "text/plain": [
       "        Item  Loja 1  Loja 2  Loja 3  Loja 4  Total\n",
       "0  Produto 1      95      11      81      70    257"
      ]
     },
     "execution_count": 7,
     "metadata": {},
     "output_type": "execute_result"
    }
   ],
   "source": [
    "# Return spefic row by labels\n",
    "df.loc[[0], ['Item', 'Loja 1', 'Loja 2', 'Loja 3', 'Loja 4', 'Total']]"
   ]
  }
 ],
 "metadata": {
  "kernelspec": {
   "display_name": "Python 3",
   "language": "python",
   "name": "python3"
  },
  "language_info": {
   "codemirror_mode": {
    "name": "ipython",
    "version": 3
   },
   "file_extension": ".py",
   "mimetype": "text/x-python",
   "name": "python",
   "nbconvert_exporter": "python",
   "pygments_lexer": "ipython3",
   "version": "3.8.0"
  }
 },
 "nbformat": 4,
 "nbformat_minor": 5
}
